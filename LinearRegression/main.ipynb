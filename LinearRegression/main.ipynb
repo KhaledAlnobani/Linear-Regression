{
 "cells": [
  {
   "cell_type": "code",
   "id": "initial_id",
   "metadata": {
    "collapsed": true,
    "ExecuteTime": {
     "end_time": "2024-07-06T11:27:16.102646Z",
     "start_time": "2024-07-06T11:27:16.079875Z"
    }
   },
   "source": [
    "import pandas as pd\n",
    "import numpy as np\n",
    "from matplotlib import pyplot as plt\n",
    "\n"
   ],
   "outputs": [],
   "execution_count": 213
  },
  {
   "metadata": {
    "ExecuteTime": {
     "end_time": "2024-07-06T11:27:16.132551Z",
     "start_time": "2024-07-06T11:27:16.105106Z"
    }
   },
   "cell_type": "code",
   "source": "df = pd.read_csv('Student_Performance.csv')",
   "id": "2c6388eeb0303afc",
   "outputs": [],
   "execution_count": 214
  },
  {
   "metadata": {
    "ExecuteTime": {
     "end_time": "2024-07-06T11:27:16.177980Z",
     "start_time": "2024-07-06T11:27:16.158582Z"
    }
   },
   "cell_type": "code",
   "source": "df",
   "id": "50b2bb77324b5874",
   "outputs": [
    {
     "data": {
      "text/plain": [
       "      Hours Studied  Previous Scores Extracurricular Activities  Sleep Hours  \\\n",
       "0                 7               99                        Yes            9   \n",
       "1                 4               82                         No            4   \n",
       "2                 8               51                        Yes            7   \n",
       "3                 5               52                        Yes            5   \n",
       "4                 7               75                         No            8   \n",
       "...             ...              ...                        ...          ...   \n",
       "9995              1               49                        Yes            4   \n",
       "9996              7               64                        Yes            8   \n",
       "9997              6               83                        Yes            8   \n",
       "9998              9               97                        Yes            7   \n",
       "9999              7               74                         No            8   \n",
       "\n",
       "      Sample Question Papers Practiced  Performance Index  \n",
       "0                                    1               91.0  \n",
       "1                                    2               65.0  \n",
       "2                                    2               45.0  \n",
       "3                                    2               36.0  \n",
       "4                                    5               66.0  \n",
       "...                                ...                ...  \n",
       "9995                                 2               23.0  \n",
       "9996                                 5               58.0  \n",
       "9997                                 5               74.0  \n",
       "9998                                 0               95.0  \n",
       "9999                                 1               64.0  \n",
       "\n",
       "[10000 rows x 6 columns]"
      ],
      "text/html": [
       "<div>\n",
       "<style scoped>\n",
       "    .dataframe tbody tr th:only-of-type {\n",
       "        vertical-align: middle;\n",
       "    }\n",
       "\n",
       "    .dataframe tbody tr th {\n",
       "        vertical-align: top;\n",
       "    }\n",
       "\n",
       "    .dataframe thead th {\n",
       "        text-align: right;\n",
       "    }\n",
       "</style>\n",
       "<table border=\"1\" class=\"dataframe\">\n",
       "  <thead>\n",
       "    <tr style=\"text-align: right;\">\n",
       "      <th></th>\n",
       "      <th>Hours Studied</th>\n",
       "      <th>Previous Scores</th>\n",
       "      <th>Extracurricular Activities</th>\n",
       "      <th>Sleep Hours</th>\n",
       "      <th>Sample Question Papers Practiced</th>\n",
       "      <th>Performance Index</th>\n",
       "    </tr>\n",
       "  </thead>\n",
       "  <tbody>\n",
       "    <tr>\n",
       "      <th>0</th>\n",
       "      <td>7</td>\n",
       "      <td>99</td>\n",
       "      <td>Yes</td>\n",
       "      <td>9</td>\n",
       "      <td>1</td>\n",
       "      <td>91.0</td>\n",
       "    </tr>\n",
       "    <tr>\n",
       "      <th>1</th>\n",
       "      <td>4</td>\n",
       "      <td>82</td>\n",
       "      <td>No</td>\n",
       "      <td>4</td>\n",
       "      <td>2</td>\n",
       "      <td>65.0</td>\n",
       "    </tr>\n",
       "    <tr>\n",
       "      <th>2</th>\n",
       "      <td>8</td>\n",
       "      <td>51</td>\n",
       "      <td>Yes</td>\n",
       "      <td>7</td>\n",
       "      <td>2</td>\n",
       "      <td>45.0</td>\n",
       "    </tr>\n",
       "    <tr>\n",
       "      <th>3</th>\n",
       "      <td>5</td>\n",
       "      <td>52</td>\n",
       "      <td>Yes</td>\n",
       "      <td>5</td>\n",
       "      <td>2</td>\n",
       "      <td>36.0</td>\n",
       "    </tr>\n",
       "    <tr>\n",
       "      <th>4</th>\n",
       "      <td>7</td>\n",
       "      <td>75</td>\n",
       "      <td>No</td>\n",
       "      <td>8</td>\n",
       "      <td>5</td>\n",
       "      <td>66.0</td>\n",
       "    </tr>\n",
       "    <tr>\n",
       "      <th>...</th>\n",
       "      <td>...</td>\n",
       "      <td>...</td>\n",
       "      <td>...</td>\n",
       "      <td>...</td>\n",
       "      <td>...</td>\n",
       "      <td>...</td>\n",
       "    </tr>\n",
       "    <tr>\n",
       "      <th>9995</th>\n",
       "      <td>1</td>\n",
       "      <td>49</td>\n",
       "      <td>Yes</td>\n",
       "      <td>4</td>\n",
       "      <td>2</td>\n",
       "      <td>23.0</td>\n",
       "    </tr>\n",
       "    <tr>\n",
       "      <th>9996</th>\n",
       "      <td>7</td>\n",
       "      <td>64</td>\n",
       "      <td>Yes</td>\n",
       "      <td>8</td>\n",
       "      <td>5</td>\n",
       "      <td>58.0</td>\n",
       "    </tr>\n",
       "    <tr>\n",
       "      <th>9997</th>\n",
       "      <td>6</td>\n",
       "      <td>83</td>\n",
       "      <td>Yes</td>\n",
       "      <td>8</td>\n",
       "      <td>5</td>\n",
       "      <td>74.0</td>\n",
       "    </tr>\n",
       "    <tr>\n",
       "      <th>9998</th>\n",
       "      <td>9</td>\n",
       "      <td>97</td>\n",
       "      <td>Yes</td>\n",
       "      <td>7</td>\n",
       "      <td>0</td>\n",
       "      <td>95.0</td>\n",
       "    </tr>\n",
       "    <tr>\n",
       "      <th>9999</th>\n",
       "      <td>7</td>\n",
       "      <td>74</td>\n",
       "      <td>No</td>\n",
       "      <td>8</td>\n",
       "      <td>1</td>\n",
       "      <td>64.0</td>\n",
       "    </tr>\n",
       "  </tbody>\n",
       "</table>\n",
       "<p>10000 rows × 6 columns</p>\n",
       "</div>"
      ]
     },
     "execution_count": 215,
     "metadata": {},
     "output_type": "execute_result"
    }
   ],
   "execution_count": 215
  },
  {
   "metadata": {
    "ExecuteTime": {
     "end_time": "2024-07-06T11:27:16.188739Z",
     "start_time": "2024-07-06T11:27:16.179302Z"
    }
   },
   "cell_type": "code",
   "source": "df.isnull().sum()",
   "id": "501082db1f25ba7d",
   "outputs": [
    {
     "data": {
      "text/plain": [
       "Hours Studied                       0\n",
       "Previous Scores                     0\n",
       "Extracurricular Activities          0\n",
       "Sleep Hours                         0\n",
       "Sample Question Papers Practiced    0\n",
       "Performance Index                   0\n",
       "dtype: int64"
      ]
     },
     "execution_count": 216,
     "metadata": {},
     "output_type": "execute_result"
    }
   ],
   "execution_count": 216
  },
  {
   "metadata": {
    "ExecuteTime": {
     "end_time": "2024-07-06T11:27:16.200373Z",
     "start_time": "2024-07-06T11:27:16.190751Z"
    }
   },
   "cell_type": "code",
   "source": "df.duplicated().sum()",
   "id": "3aebb2ab0d24ab4b",
   "outputs": [
    {
     "data": {
      "text/plain": [
       "np.int64(127)"
      ]
     },
     "execution_count": 217,
     "metadata": {},
     "output_type": "execute_result"
    }
   ],
   "execution_count": 217
  },
  {
   "metadata": {
    "ExecuteTime": {
     "end_time": "2024-07-06T11:27:16.210280Z",
     "start_time": "2024-07-06T11:27:16.200373Z"
    }
   },
   "cell_type": "code",
   "source": "df.drop_duplicates(inplace=True)\n",
   "id": "a9901c8ea1e9f1a1",
   "outputs": [],
   "execution_count": 218
  },
  {
   "metadata": {
    "ExecuteTime": {
     "end_time": "2024-07-06T11:27:16.218977Z",
     "start_time": "2024-07-06T11:27:16.210280Z"
    }
   },
   "cell_type": "code",
   "source": "df.dtypes",
   "id": "b4b00e2073f7937a",
   "outputs": [
    {
     "data": {
      "text/plain": [
       "Hours Studied                         int64\n",
       "Previous Scores                       int64\n",
       "Extracurricular Activities           object\n",
       "Sleep Hours                           int64\n",
       "Sample Question Papers Practiced      int64\n",
       "Performance Index                   float64\n",
       "dtype: object"
      ]
     },
     "execution_count": 219,
     "metadata": {},
     "output_type": "execute_result"
    }
   ],
   "execution_count": 219
  },
  {
   "metadata": {
    "ExecuteTime": {
     "end_time": "2024-07-06T11:27:16.245330Z",
     "start_time": "2024-07-06T11:27:16.237909Z"
    }
   },
   "cell_type": "code",
   "source": "df[\"Extracurricular Activities\"].unique()",
   "id": "b5d80961b759e52",
   "outputs": [
    {
     "data": {
      "text/plain": [
       "array(['Yes', 'No'], dtype=object)"
      ]
     },
     "execution_count": 220,
     "metadata": {},
     "output_type": "execute_result"
    }
   ],
   "execution_count": 220
  },
  {
   "metadata": {
    "ExecuteTime": {
     "end_time": "2024-07-06T11:27:16.297398Z",
     "start_time": "2024-07-06T11:27:16.276640Z"
    }
   },
   "cell_type": "code",
   "source": "df[\"Extracurricular Activities\"] = df[\"Extracurricular Activities\"].apply(lambda x : 1 if x == \"Yes\" else 0)",
   "id": "4a1bdb4a08feb315",
   "outputs": [],
   "execution_count": 221
  },
  {
   "metadata": {
    "ExecuteTime": {
     "end_time": "2024-07-06T11:27:16.465226Z",
     "start_time": "2024-07-06T11:27:16.454122Z"
    }
   },
   "cell_type": "code",
   "source": "df[\"Extracurricular Activities\"].unique()\n",
   "id": "8617d7faee31a253",
   "outputs": [
    {
     "data": {
      "text/plain": [
       "array([1, 0])"
      ]
     },
     "execution_count": 222,
     "metadata": {},
     "output_type": "execute_result"
    }
   ],
   "execution_count": 222
  },
  {
   "metadata": {
    "ExecuteTime": {
     "end_time": "2024-07-06T11:27:16.526005Z",
     "start_time": "2024-07-06T11:27:16.517041Z"
    }
   },
   "cell_type": "code",
   "source": [
    "X = df.drop(\"Performance Index\", axis=1)\n",
    "y = df[\"Performance Index\"]"
   ],
   "id": "4c17e42d67b4a592",
   "outputs": [],
   "execution_count": 223
  },
  {
   "metadata": {
    "ExecuteTime": {
     "end_time": "2024-07-06T11:27:16.590137Z",
     "start_time": "2024-07-06T11:27:16.577756Z"
    }
   },
   "cell_type": "code",
   "source": [
    "def zscore_normalize_features(X):\n",
    "    mu     = np.mean(X, axis=0)             \n",
    "    std  = np.std(X, axis=0)                  \n",
    "    X_norm = (X - mu) / std      \n",
    "\n",
    "    return X_norm"
   ],
   "id": "87833d458f542697",
   "outputs": [],
   "execution_count": 224
  },
  {
   "metadata": {
    "ExecuteTime": {
     "end_time": "2024-07-06T11:27:16.624805Z",
     "start_time": "2024-07-06T11:27:16.605912Z"
    }
   },
   "cell_type": "code",
   "source": [
    "def MES(y_true, y_pred):\n",
    "    return np.mean((y_true - y_pred) ** 2)"
   ],
   "id": "b7dfceeda2c37a23",
   "outputs": [],
   "execution_count": 225
  },
  {
   "metadata": {
    "ExecuteTime": {
     "end_time": "2024-07-06T11:27:16.674141Z",
     "start_time": "2024-07-06T11:27:16.653119Z"
    }
   },
   "cell_type": "code",
   "source": [
    "def test_train_split(X, y, random_state=None, test_size=0.2):\n",
    "    if random_state is not None:\n",
    "        np.random.seed(random_state)\n",
    "    num_samples = len(X)\n",
    "    indices = np.arange(num_samples)\n",
    "    np.random.shuffle(indices)\n",
    "    split = int(num_samples * test_size)\n",
    "    test_indices = indices[:split]\n",
    "    train_indices = indices[split:]\n",
    "    X_train, y_train = X.iloc[train_indices], y.iloc[train_indices]\n",
    "    X_test, y_test = X.iloc[test_indices], y.iloc[test_indices]\n",
    "    return X_train, y_train, X_test, y_test"
   ],
   "id": "17792d93716b7141",
   "outputs": [],
   "execution_count": 226
  },
  {
   "metadata": {
    "ExecuteTime": {
     "end_time": "2024-07-06T11:27:16.697255Z",
     "start_time": "2024-07-06T11:27:16.687858Z"
    }
   },
   "cell_type": "code",
   "source": [
    "def gradient_descent(X, y, weight, bias, alpha):\n",
    "    num_records = X.shape[0]\n",
    "    y_pred = np.dot(X, weight) + bias\n",
    "    dw = (1 / num_records) * np.dot(X.T, (y_pred - y))\n",
    "    db = (1 / num_records) * np.sum(y_pred - y)\n",
    "    weight -= alpha * dw\n",
    "    bias -= alpha * db\n",
    "    return weight, bias, y_pred"
   ],
   "id": "d1a91d5181a7e51a",
   "outputs": [],
   "execution_count": 227
  },
  {
   "metadata": {
    "ExecuteTime": {
     "end_time": "2024-07-06T11:27:16.717679Z",
     "start_time": "2024-07-06T11:27:16.702592Z"
    }
   },
   "cell_type": "code",
   "source": "X = zscore_normalize_features(X)",
   "id": "348b615555304ffa",
   "outputs": [],
   "execution_count": 228
  },
  {
   "metadata": {
    "ExecuteTime": {
     "end_time": "2024-07-06T11:27:16.775382Z",
     "start_time": "2024-07-06T11:27:16.762765Z"
    }
   },
   "cell_type": "code",
   "source": "train_X, train_y, test_X, test_y = test_train_split(X, y, test_size=0.2)",
   "id": "f1f98137f224688e",
   "outputs": [],
   "execution_count": 229
  },
  {
   "metadata": {
    "ExecuteTime": {
     "end_time": "2024-07-06T11:27:18.953075Z",
     "start_time": "2024-07-06T11:27:16.794598Z"
    }
   },
   "cell_type": "code",
   "source": [
    "learning_rate = 0.002\n",
    "iterations = 3000\n",
    "weight = np.zeros(train_X.shape[1])\n",
    "bias = 0.0\n",
    "cost_history = []\n",
    "for i in range(iterations):\n",
    "    weight, bias, y_pred = gradient_descent(train_X, train_y, weight, bias, learning_rate)\n",
    "    mes = MES(train_y, y_pred)\n",
    "    cost_history.append(mes)\n"
   ],
   "id": "3aa03d799e57369b",
   "outputs": [],
   "execution_count": 230
  },
  {
   "metadata": {
    "ExecuteTime": {
     "end_time": "2024-07-06T11:27:19.096544Z",
     "start_time": "2024-07-06T11:27:18.953075Z"
    }
   },
   "cell_type": "code",
   "source": [
    "plt.plot(cost_history)\n",
    "plt.xlabel('Iterations')\n",
    "plt.ylabel('Cost (MES)')\n",
    "plt.title(\"Cost vs Iterations\")"
   ],
   "id": "1648cf65e1e4b2f5",
   "outputs": [
    {
     "data": {
      "text/plain": [
       "Text(0.5, 1.0, 'Cost vs Iterations')"
      ]
     },
     "execution_count": 231,
     "metadata": {},
     "output_type": "execute_result"
    },
    {
     "data": {
      "text/plain": [
       "<Figure size 640x480 with 1 Axes>"
      ],
      "image/png": "[encoded data removed]"
     },
     "metadata": {},
     "output_type": "display_data"
    }
   ],
   "execution_count": 231
  },
  {
   "metadata": {
    "ExecuteTime": {
     "end_time": "2024-07-06T11:27:19.101764Z",
     "start_time": "2024-07-06T11:27:19.096544Z"
    }
   },
   "cell_type": "code",
   "source": [
    "test_predictions = np.dot(test_X, weight) + bias\n",
    "test_cost = MES(test_y, test_predictions)\n",
    "print(f\"Test MSE: {test_cost}\")"
   ],
   "id": "73c03ade671c0052",
   "outputs": [
    {
     "name": "stdout",
     "output_type": "stream",
     "text": [
      "Test MSE: 4.1474435981249425\n"
     ]
    }
   ],
   "execution_count": 232
  },
  {
   "metadata": {
    "ExecuteTime": {
     "end_time": "2024-07-06T11:27:19.105230Z",
     "start_time": "2024-07-06T11:27:19.102267Z"
    }
   },
   "cell_type": "code",
   "source": "",
   "id": "f91cb35c2b7b997d",
   "outputs": [],
   "execution_count": 232
  },
  {
   "metadata": {
    "ExecuteTime": {
     "end_time": "2024-07-06T11:27:19.107609Z",
     "start_time": "2024-07-06T11:27:19.105230Z"
    }
   },
   "cell_type": "code",
   "source": "",
   "id": "16ac113b3caccd9c",
   "outputs": [],
   "execution_count": 232
  },
  {
   "metadata": {
    "ExecuteTime": {
     "end_time": "2024-07-06T11:27:19.110031Z",
     "start_time": "2024-07-06T11:27:19.107609Z"
    }
   },
   "cell_type": "code",
   "source": "",
   "id": "5d2c25647a9924af",
   "outputs": [],
   "execution_count": 232
  }
 ],
 "metadata": {
  "kernelspec": {
   "display_name": "Python 3",
   "language": "python",
   "name": "python3"
  },
  "language_info": {
   "codemirror_mode": {
    "name": "ipython",
    "version": 2
   },
   "file_extension": ".py",
   "mimetype": "text/x-python",
   "name": "python",
   "nbconvert_exporter": "python",
   "pygments_lexer": "ipython2",
   "version": "2.7.6"
  }
 },
 "nbformat": 4,
 "nbformat_minor": 5
}
